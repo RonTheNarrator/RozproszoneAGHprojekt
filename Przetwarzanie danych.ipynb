{
 "cells": [
  {
   "cell_type": "markdown",
   "id": "0e7aef52",
   "metadata": {},
   "source": [
    "### Piesi"
   ]
  },
  {
   "cell_type": "code",
   "execution_count": null,
   "id": "advised-surprise",
   "metadata": {},
   "outputs": [],
   "source": [
    "import networkx as nx\n",
    "#import osmnx as ox\n",
    "import matplotlib.pyplot as plt\n",
    "import pandas as pd\n",
    "import numpy as np\n",
    "import glob\n",
    "import os\n",
    "from math import sin, cos, sqrt, atan2, radians\n",
    "#from matplotlib_scalebar.scalebar import ScaleBar\n",
    "from sklearn.metrics.pairwise import haversine_distances\n",
    "from mpl_toolkits.axes_grid1.inset_locator import inset_axes\n",
    "from scipy.optimize import curve_fit\n",
    "\n",
    "#%matplotlib inline\n",
    "#ox.config(log_console=True)\n",
    "#ox.__version__\n",
    "\n",
    "# Color blind library\n",
    "plt.style.use('tableau-colorblind10')          \n",
    "plt.style.library['tableau-colorblind10']\n",
    "                \n",
    "\n",
    "def getDistanceFromLatLonInM(lat1,lon1,lat2,lon2):\n",
    "    \"\"\" Function that returns the distance in metres between 2 GPS locations in degrees (latitude and longitude).\n",
    "    It is based in the Haversine formula (https://en.wikipedia.org/wiki/Haversine_formula) which takes into account the\n",
    "    Earth's curvature. \n",
    "    \n",
    "    Input:\n",
    "        - 2 GPS coordinates: (latitude1,longitude1) of the first point and (latitude2,longitude2) of the second point. \n",
    "        \n",
    "    Output:\n",
    "        - Distance in metres between the two GPS locations.\n",
    "    \"\"\"\n",
    "    \n",
    "    R = 6371 # Radius of the earth in km\n",
    "    dLat = radians(lat2-lat1)\n",
    "    dLon = radians(lon2-lon1)\n",
    "    rLat1 = radians(lat1)\n",
    "    rLat2 = radians(lat2)\n",
    "    a = sin(dLat/2) * sin(dLat/2) + cos(rLat1) * cos(rLat2) * sin(dLon/2) * sin(dLon/2) \n",
    "    c = 2 * atan2(sqrt(a), sqrt(1-a))\n",
    "    d = R * c # Distance in km\n",
    "    e= d*1000 #distance in m\n",
    "    \n",
    "    return e\n"
   ]
  },
  {
   "cell_type": "code",
   "execution_count": null,
   "id": "a8a2a50f",
   "metadata": {},
   "outputs": [],
   "source": [
    "import datetime\n",
    "compiled_data = pd.DataFrame()\n",
    "all_files = glob.glob(os.path.join(\"*.csv\"),root_dir=\"./processed and interpolated data\") \n",
    "for file in all_files:   \n",
    "    df = pd.read_csv(\"./processed and interpolated data/\"+file)  # Read the csv file of each user\n",
    "    compiled_data = compiled_data.append(df, ignore_index=True)\n",
    "#compiled_data[\"timestamp\"] = compiled_data.apply(lambda x: datetime.datetime.strptime(x.time,\"%Y-%m-%d %H:%M:%S\").timestamp())\n",
    "#datetime.datetime.strptime(compiled_data[\"time\"],\"%Y-%m-%d %H:%M:%S\").timestamp()\n",
    "    \n",
    "    \n",
    "compiled_data.to_csv(\"compiled_data.csv\", index=False)"
   ]
  },
  {
   "cell_type": "code",
   "execution_count": null,
   "id": "31daa123",
   "metadata": {},
   "outputs": [],
   "source": [
    "import geopy.distance\n",
    "import datetime\n",
    "movement = pd.read_csv(\"routes_multiple.csv\")\n",
    "lamps = pd.read_csv(\"AghLamps.csv\")\n",
    "movement.sort_values(\"time\", inplace = True)\n",
    "lampsOn = pd.DataFrame(columns=['startTime','endTime','latitude','longitude'])"
   ]
  },
  {
   "cell_type": "code",
   "execution_count": null,
   "id": "b6da0442",
   "metadata": {},
   "outputs": [],
   "source": [
    "def calculate_destination_coordinates(lat, lon, distance, bearing):\n",
    "    # Calculate the destination coordinates given the initial coordinates, distance, and bearing\n",
    "    destination = geopy.distance.geodesic(kilometers=distance/1000).destination((lat, lon), bearing)\n",
    "    return destination.latitude, destination.longitude\n",
    "\n",
    "\n",
    "lamps['N'] = lamps.apply(lambda row: calculate_destination_coordinates(row['Y'], row['X'], 20, 0)[0], axis=1)\n",
    "lamps['E'] = lamps.apply(lambda row: calculate_destination_coordinates(row['Y'], row['X'], 20, 90)[1], axis=1)\n",
    "lamps['S'] = lamps.apply(lambda row: calculate_destination_coordinates(row['Y'], row['X'], 20, 180)[0], axis=1)\n",
    "lamps['W'] = lamps.apply(lambda row: calculate_destination_coordinates(row['Y'], row['X'], 20, 270)[1], axis=1)\n"
   ]
  },
  {
   "cell_type": "code",
   "execution_count": null,
   "id": "f04e6ffb",
   "metadata": {},
   "outputs": [],
   "source": [
    "# Lamps NESW\n",
    "lampsN = pd.DataFrame(columns=['startTime','endTime','latitude','longitude'])\n",
    "lampsE = pd.DataFrame(columns=['startTime','endTime','latitude','longitude'])\n",
    "lampsS = pd.DataFrame(columns=['startTime','endTime','latitude','longitude'])\n",
    "lampsW = pd.DataFrame(columns=['startTime','endTime','latitude','longitude'])\n",
    "\n",
    "def calcLamp(lamp, outputDF, sourceDf):\n",
    "    if len(sourceDf)<1:\n",
    "        return\n",
    "    \n",
    "    mintime = datetime.datetime.strptime(sourceDf.iloc[0].time, \"%Y-%m-%d %H:%M:%S\")\n",
    "    prevtime = mintime\n",
    "    for i in range (1,len(sourceDf)):\n",
    "        current = datetime.datetime.strptime(sourceDf.iloc[i].time, \"%Y-%m-%d %H:%M:%S\")\n",
    "        if (((current - datetime.timedelta(seconds=10)) > prevtime) or i == len(sourceDf)-1):\n",
    "            #save period and startover\n",
    "            outputDF.loc[len(outputDF.index)] = [mintime, prevtime + datetime.timedelta(seconds=10), lamp.Y, lamp.X] \n",
    "            mintime = current\n",
    "            prevtime = mintime\n",
    "        else:\n",
    "            prevtime = current\n",
    "\n",
    "\n",
    "for l in range (1,len(lamps)):\n",
    "    lamp = lamps.iloc[l]   \n",
    "    calcLamp(lamp, lampsN, movement.loc[movement.apply(lambda x: (lamp.N>x['latitude'] and lamp.Y<x['latitude'] and lamp.E>x['longitude'] and lamp.W<x['longitude']),axis=1)])\n",
    "    calcLamp(lamp, lampsE, movement.loc[movement.apply(lambda x: (lamp.N>x['latitude'] and lamp.S<x['latitude'] and lamp.E>x['longitude'] and lamp.X<x['longitude']),axis=1)])\n",
    "    calcLamp(lamp, lampsS, movement.loc[movement.apply(lambda x: (lamp.Y>x['latitude'] and lamp.S<x['latitude'] and lamp.E>x['longitude'] and lamp.W<x['longitude']),axis=1)])\n",
    "    calcLamp(lamp, lampsW, movement.loc[movement.apply(lambda x: (lamp.N>x['latitude'] and lamp.S<x['latitude'] and lamp.X>x['longitude'] and lamp.W<x['longitude']),axis=1)])\n",
    "    \n",
    "    lampsN.to_csv(\"lampN.csv\", index=False)\n",
    "    lampsE.to_csv(\"lampE.csv\", index=False) \n",
    "    lampsS.to_csv(\"lampS.csv\", index=False) \n",
    "    lampsW.to_csv(\"lampW.csv\", index=False) \n",
    "    "
   ]
  },
  {
   "cell_type": "code",
   "execution_count": null,
   "id": "be7c29c7",
   "metadata": {},
   "outputs": [],
   "source": [
    "#Lamps Directional\n",
    "\n",
    "lampsDir = pd.DataFrame(columns=['startTime','endTime','latitude','longitude','direction'])\n",
    "\n",
    "import math\n",
    "\n",
    "def calculate_heading(lat1, lon1, lat2, lon2):\n",
    "    # Calculate the initial bearing between two points\n",
    "    delta_lon = lon2 - lon1\n",
    "    x = math.cos(math.radians(lat2)) * math.sin(math.radians(delta_lon))\n",
    "    y = math.cos(math.radians(lat1)) * math.sin(math.radians(lat2)) - \\\n",
    "        math.sin(math.radians(lat1)) * math.cos(math.radians(lat2)) * math.cos(math.radians(delta_lon))\n",
    "    bearing = math.atan2(x, y)\n",
    "    \n",
    "    # Convert bearing to degrees and normalize to [0, 360) range\n",
    "    heading = (math.degrees(bearing) + 360) % 360\n",
    "    \n",
    "    return heading\n",
    "\n",
    "\n",
    "for l in range (1,len(lamps)):\n",
    "    \n",
    "    lamp = lamps.iloc[l]    \n",
    "    sourceDf = movement.loc[movement.apply(lambda x: (lamp.N>x['latitude'] and lamp.S<x['latitude'] and lamp.E>x['longitude'] and lamp.W<x['longitude']),axis=1)]\n",
    "    if len(sourceDf)<1:\n",
    "        continue\n",
    "    \n",
    "    mintime = datetime.datetime.strptime(sourceDf.iloc[0].time, \"%Y-%m-%d %H:%M:%S\")\n",
    "    prevtime = mintime\n",
    "    for i in range (1,len(sourceDf)):\n",
    "        current = datetime.datetime.strptime(sourceDf.iloc[i].time, \"%Y-%m-%d %H:%M:%S\")\n",
    "        lampsDir.loc[len(lampsDir.index)] = [current, current + datetime.timedelta(seconds=10), lamp.Y, lamp.X, calculate_heading(lamp.Y, lamp.X, sourceDf.iloc[i]['latitude'], sourceDf.iloc[i]['longitude'])]\n",
    "            \n",
    "lampsDir.to_csv(\"lampDir.csv\", index=False)\n"
   ]
  },
  {
   "cell_type": "code",
   "execution_count": null,
   "id": "dd3b24e7",
   "metadata": {},
   "outputs": [],
   "source": [
    "lampsDir"
   ]
  },
  {
   "cell_type": "code",
   "execution_count": null,
   "id": "71ae58e7",
   "metadata": {},
   "outputs": [],
   "source": [
    "\n",
    "\n",
    "\n",
    "for l in range (1,len(lamps)):\n",
    "    \n",
    "    lamp = lamps.iloc[l]    \n",
    "    \n",
    "    def lam(x):\n",
    "        if (lamp.N>x['latitude'] and lamp.S<x['latitude'] and lamp.E>x['longitude'] and lamp.W<x['longitude']):\n",
    "            return geopy.distance.distance((lamp.Y,lamp.X),(x['latitude'], x['longitude'])).m<20\n",
    "        return False\n",
    "    sourceDf = movement.loc[movement.apply(lam,axis=1)]\n",
    "    if len(sourceDf)<1:\n",
    "        continue\n",
    "    \n",
    "    mintime = datetime.datetime.strptime(sourceDf.iloc[0].time, \"%Y-%m-%d %H:%M:%S\")\n",
    "    prevtime = mintime\n",
    "    for i in range (1,len(sourceDf)):\n",
    "        current = datetime.datetime.strptime(sourceDf.iloc[i].time, \"%Y-%m-%d %H:%M:%S\")\n",
    "        if (((current - datetime.timedelta(seconds=10)) > prevtime) or i == len(sourceDf)-1):\n",
    "            #save period and startover\n",
    "            lampsOn.loc[len(lampsOn.index)] = [mintime, prevtime + datetime.timedelta(seconds=10), lamp.Y, lamp.X] \n",
    "            mintime = current\n",
    "            prevtime = mintime\n",
    "        else:\n",
    "            prevtime = current\n",
    "            \n",
    "lampsOn.to_csv(\"lampOn.csv\", index=False) \n"
   ]
  },
  {
   "cell_type": "code",
   "execution_count": null,
   "id": "f5070fb2",
   "metadata": {},
   "outputs": [],
   "source": [
    "lampsOn"
   ]
  },
  {
   "cell_type": "code",
   "execution_count": null,
   "id": "440a0807",
   "metadata": {},
   "outputs": [],
   "source": [
    "lampsOn.to_csv(\"lampOn.csv\", index=False) "
   ]
  },
  {
   "cell_type": "code",
   "execution_count": null,
   "id": "20d2122e",
   "metadata": {},
   "outputs": [],
   "source": [
    "\n",
    "lamp = (41.31587009,2.02229937)\n",
    "\n",
    "#lam = lambda x: geopy.distance.distance((41.31587009,2.02229937),(x.latitude, x.longtitude))\n",
    "def lam(x):\n",
    "    return geopy.distance.distance((41.31587009,2.02229937),(x['latitude'], x['longitude'])).m<20\n",
    "\n",
    "rslt_df = compiled_data.loc[compiled_data.apply(lam,axis=1)]\n",
    "rslt_df.to_csv(\"lamp1.csv\", index=False)\n",
    "\n",
    "\n",
    "        \n",
    "#compiled_data[\"lDist\"] = compiled_data.apply(lam,axis=1)\n",
    "# 225082.10, 5059301.28"
   ]
  },
  {
   "cell_type": "code",
   "execution_count": null,
   "id": "5e802899",
   "metadata": {},
   "outputs": [],
   "source": [
    "lampsOn = pd.DataFrame(columns=['startTime','endTime','latitude','longitude'])\n",
    "\n",
    "sourceDf = rslt_df.sort_values(\"time\")\n",
    "\n",
    "mintime = datetime.datetime.strptime(sourceDf.iloc[0].time, \"%Y-%m-%d %H:%M:%S\")\n",
    "prevtime = mintime\n",
    "for i in range (1,len(sourceDf)):\n",
    "    current = datetime.datetime.strptime(sourceDf.iloc[i].time, \"%Y-%m-%d %H:%M:%S\")\n",
    "    print(f\"{current}    :     {prevtime}\\n{((current - datetime.timedelta(seconds=10)) > prevtime)}\\n\")\n",
    "    if ((current - datetime.timedelta(seconds=10)) > prevtime):\n",
    "        #save period and startover\n",
    "        lampsOn.loc[len(lampsOn.index)] = [mintime, prevtime + datetime.timedelta(seconds=10), lamp[0], lamp[1]] \n",
    "        mintime = current\n",
    "        prevtime = mintime\n",
    "    else:\n",
    "        prevtime = current\n",
    "lampsOn.to_csv(\"lampOn.csv\", index=False)"
   ]
  },
  {
   "cell_type": "markdown",
   "id": "4924632c",
   "metadata": {},
   "source": [
    "### Awarie Lamp"
   ]
  },
  {
   "cell_type": "code",
   "execution_count": null,
   "id": "e9733120",
   "metadata": {},
   "outputs": [],
   "source": [
    "# Zakładamy że Lampy co jakiś czas (minuta) pytają sąsiadów czy wszystko w porządku, jeśli sąsiad nie odpowiada przez kilka wiadomości podrząd, zakładamy że się zepsuł i raportujemy usterkę\n",
    "# wybierz 2 lampy do awari i wylosuj kiedy się zepsują\n",
    "# Lampy w promienu 50 metrów zauważają awarię po losowym okresie czasu (0-60s + 2 min) i zgłaszają ją do rozdzielni\n",
    "\n",
    "# TODO : Usunąć zaświecane uszkodzonej lampy\n",
    "\n",
    "import random\n",
    "from  datetime import timedelta\n",
    "\n",
    "lampsFail = pd.DataFrame(columns=['startTime','endTime','longitude','latitude'])\n",
    "lampsAlert = pd.DataFrame(columns=['startTime','endTime','longitude','latitude'])\n",
    "\n",
    "\n",
    "\n",
    "startDateTime = datetime.datetime.strptime(movement['time'].min(), \"%Y-%m-%d %H:%M:%S\")\n",
    "endDateTime = datetime.datetime.strptime(movement['time'].max(), \"%Y-%m-%d %H:%M:%S\")\n",
    "timeDelta = (endDateTime - startDateTime).total_seconds()\n",
    "\n",
    "for i in range(2):\n",
    "    victim = lamps.sample().iloc[0]\n",
    "    timeOfDeath = startDateTime + timedelta(seconds=random.uniform(0, timeDelta))\n",
    "    lampsFail.loc[len(lampsFail.index)] = [timeOfDeath, endDateTime, victim.X, victim.Y] \n",
    "\n",
    "    def lam(x):\n",
    "        return geopy.distance.distance((victim.Y,victim.X),(x.Y, x.X)).m<50\n",
    "    Neighbours = lamps.loc[lamps.apply(lam,axis=1)]\n",
    "    #Neighbours = lamps[geopy.distance.distance((victim.Y,victim.X),(lamps['Y'], lamps['X'])).m<50]\n",
    "    for index, n in Neighbours.iterrows():\n",
    "        alertTime = timeOfDeath + timedelta(seconds=random.uniform(120, 180))\n",
    "        if (victim.Y != n.Y and victim.X != n.X):\n",
    "            lampsAlert.loc[len(lampsAlert.index)] = [alertTime, endDateTime, n.X, n.Y]\n",
    "\n",
    "\n",
    "lampsFail.to_csv(\"lampFail.csv\", index=False) \n",
    "lampsAlert.to_csv(\"lampAlert.csv\", index=False) "
   ]
  },
  {
   "cell_type": "code",
   "execution_count": null,
   "id": "fa32a183",
   "metadata": {},
   "outputs": [],
   "source": [
    "for index, row in Neighbours.iterrows():\n",
    "    print(row.X)"
   ]
  },
  {
   "cell_type": "code",
   "execution_count": null,
   "id": "7cde0320",
   "metadata": {},
   "outputs": [],
   "source": [
    "#sourceDf.iloc[200:250]\n",
    "movement[0:50]"
   ]
  },
  {
   "cell_type": "code",
   "execution_count": null,
   "id": "34a7ee13",
   "metadata": {},
   "outputs": [],
   "source": [
    "type(startDateTime)"
   ]
  },
  {
   "cell_type": "code",
   "execution_count": null,
   "id": "92b08434",
   "metadata": {},
   "outputs": [],
   "source": [
    "startDateTime"
   ]
  },
  {
   "cell_type": "code",
   "execution_count": null,
   "id": "1daa7fbb",
   "metadata": {},
   "outputs": [],
   "source": [
    "df"
   ]
  }
 ],
 "metadata": {
  "kernelspec": {
   "display_name": "Python 3 (ipykernel)",
   "language": "python",
   "name": "python3"
  },
  "language_info": {
   "codemirror_mode": {
    "name": "ipython",
    "version": 3
   },
   "file_extension": ".py",
   "mimetype": "text/x-python",
   "name": "python",
   "nbconvert_exporter": "python",
   "pygments_lexer": "ipython3",
   "version": "3.11.4"
  }
 },
 "nbformat": 4,
 "nbformat_minor": 5
}
