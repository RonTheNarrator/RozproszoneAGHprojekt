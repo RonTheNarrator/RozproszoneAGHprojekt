{
 "cells": [
  {
   "cell_type": "markdown",
   "id": "0e7aef52",
   "metadata": {},
   "source": [
    "### Piesi"
   ]
  },
  {
   "cell_type": "code",
   "execution_count": null,
   "id": "advised-surprise",
   "metadata": {},
   "outputs": [],
   "source": [
    "import pandas as pd\n",
    "import geopy.distance\n",
    "import datetime"
   ]
  },
  {
   "cell_type": "code",
   "execution_count": null,
   "id": "31daa123",
   "metadata": {},
   "outputs": [],
   "source": [
    "movement = pd.read_csv(\"points.csv\")\n",
    "lamps = pd.read_csv(\"AghLamps.csv\")\n",
    "movement.sort_values(\"time\", inplace = True)"
   ]
  },
  {
   "cell_type": "code",
   "execution_count": null,
   "id": "b6da0442",
   "metadata": {},
   "outputs": [],
   "source": [
    "def calculate_destination_coordinates(lat, lon, distance, bearing):\n",
    "    destination = geopy.distance.geodesic(kilometers=distance/1000).destination((lat, lon), bearing)\n",
    "    return destination.latitude, destination.longitude\n",
    "\n",
    "\n",
    "lamps['N'] = lamps.apply(lambda row: calculate_destination_coordinates(row['Y'], row['X'], 20, 0)[0], axis=1)\n",
    "lamps['E'] = lamps.apply(lambda row: calculate_destination_coordinates(row['Y'], row['X'], 20, 90)[1], axis=1)\n",
    "lamps['S'] = lamps.apply(lambda row: calculate_destination_coordinates(row['Y'], row['X'], 20, 180)[0], axis=1)\n",
    "lamps['W'] = lamps.apply(lambda row: calculate_destination_coordinates(row['Y'], row['X'], 20, 270)[1], axis=1)\n"
   ]
  },
  {
   "cell_type": "code",
   "execution_count": null,
   "id": "be7c29c7",
   "metadata": {},
   "outputs": [],
   "source": [
    "#Lamps Directional\n",
    "\n",
    "lampsDir = pd.DataFrame(columns=['startTime','endTime','latitude','longitude','direction'])\n",
    "\n",
    "import math\n",
    "\n",
    "def calculate_heading(lat1, lon1, lat2, lon2):\n",
    "    # Calculate the initial bearing between two points\n",
    "    delta_lon = lon2 - lon1\n",
    "    x = math.cos(math.radians(lat2)) * math.sin(math.radians(delta_lon))\n",
    "    y = math.cos(math.radians(lat1)) * math.sin(math.radians(lat2)) - \\\n",
    "        math.sin(math.radians(lat1)) * math.cos(math.radians(lat2)) * math.cos(math.radians(delta_lon))\n",
    "    bearing = math.atan2(x, y)\n",
    "    \n",
    "    # Convert bearing to degrees and normalize to [0, 360) range\n",
    "    heading = (math.degrees(bearing) + 360) % 360\n",
    "    \n",
    "    return heading\n",
    "\n",
    "\n",
    "for l in range (1,len(lamps)):\n",
    "    \n",
    "    lamp = lamps.iloc[l]    \n",
    "    sourceDf = movement.loc[movement.apply(lambda x: (lamp.N>x['latitude'] and lamp.S<x['latitude'] and \n",
    "                                                      lamp.E>x['longitude'] and lamp.W<x['longitude']),axis=1)]\n",
    "    if len(sourceDf)<1:\n",
    "        continue\n",
    "    \n",
    "    mintime = datetime.datetime.strptime(sourceDf.iloc[0].time, \"%Y-%m-%d %H:%M:%S\")\n",
    "    prevtime = mintime\n",
    "    for i in range (1,len(sourceDf)):\n",
    "        current = datetime.datetime.strptime(sourceDf.iloc[i].time, \"%Y-%m-%d %H:%M:%S\")\n",
    "        lampsDir.loc[len(lampsDir.index)] = [current, current + datetime.timedelta(seconds=10), lamp.Y, lamp.X,\n",
    "                                             calculate_heading(lamp.Y, lamp.X, sourceDf.iloc[i]['latitude'],\n",
    "                                             sourceDf.iloc[i]['longitude'])]\n",
    "            \n",
    "lampsDir.to_csv(\"lampDir.csv\", index=False)\n"
   ]
  }
 ],
 "metadata": {
  "kernelspec": {
   "display_name": "Python 3 (ipykernel)",
   "language": "python",
   "name": "python3"
  },
  "language_info": {
   "codemirror_mode": {
    "name": "ipython",
    "version": 3
   },
   "file_extension": ".py",
   "mimetype": "text/x-python",
   "name": "python",
   "nbconvert_exporter": "python",
   "pygments_lexer": "ipython3",
   "version": "3.11.4"
  }
 },
 "nbformat": 4,
 "nbformat_minor": 5
}
