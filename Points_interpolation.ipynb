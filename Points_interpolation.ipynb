{
 "cells": [
  {
   "cell_type": "code",
   "execution_count": null,
   "metadata": {
    "colab": {
     "base_uri": "https://localhost:8080/",
     "height": 0
    },
    "id": "raBHVS8QeCFd",
    "outputId": "787f55d4-b1c3-40dc-c03f-b5865dd5cd7d"
   },
   "outputs": [],
   "source": [
    "!pip3 install contextily"
   ]
  },
  {
   "cell_type": "code",
   "execution_count": null,
   "metadata": {
    "id": "1kv525ZwdBFU"
   },
   "outputs": [],
   "source": [
    "from itertools import chain\n",
    "from matplotlib import pyplot as plt\n",
    "import pandas as pd\n",
    "import geopandas as gpd\n",
    "import random\n",
    "from shapely.geometry import box, Point, LineString, Polygon, MultiPolygon\n",
    "import contextily as cx\n",
    "\n",
    "\n",
    "BASEMAP_SOURCE = cx.providers.CartoDB.Positron\n",
    "HEX_ALPHA = \"4F\"\n",
    "POINT_PLOT_KWDS = {\"marker\": \"D\", \"color\": \"black\", \"markersize\": 20}\n",
    "plt.rcParams['figure.dpi'] = 50"
   ]
  },
  {
   "cell_type": "code",
   "execution_count": null,
   "metadata": {
    "id": "soRH9eeacj_4"
   },
   "outputs": [],
   "source": [
    "bbox = [19.909200668334964,50.06127149591537,19.92900609970093,50.072524465016656]  # bbox Berlin\n",
    "minx, miny, maxx, maxy = bbox\n",
    "poly_berlin = box(*bbox)\n",
    "\n",
    "def random_coordinates(n, min_dist, max_dist):\n",
    "    assert min_dist < max_dist # make sure parameters are valid\n",
    "\n",
    "    coordinates = []\n",
    "    for _ in range(n):\n",
    "        counter = 0\n",
    "        in_poly = False\n",
    "        while not in_poly:\n",
    "            counter += 1\n",
    "            x = random.uniform(minx, maxx)\n",
    "            y = random.uniform(miny, maxy)\n",
    "            p = Point(x, y)\n",
    "            if poly_berlin.contains(p):\n",
    "                if coordinates:\n",
    "                    if not min_dist < p.distance(Point(coordinates[-1])) < max_dist:\n",
    "                        continue\n",
    "                coordinates.append([x, y])\n",
    "                in_poly = True\n",
    "            if counter > 1000:\n",
    "                raise ValueError(\"Distance settings are too restrictive. Try a wider range and remember it's in degrees.\")\n",
    "\n",
    "    return coordinates"
   ]
  },
  {
   "cell_type": "code",
   "execution_count": null,
   "metadata": {
    "colab": {
     "base_uri": "https://localhost:8080/"
    },
    "id": "0K-SpDItdEEc",
    "outputId": "31f62c86-4ddc-4034-8f7b-0b45fb1d53d9"
   },
   "outputs": [],
   "source": [
    "route_amount = 100\n",
    "input_pairs = [random_coordinates(n=2, min_dist=0.01, max_dist=0.02) for i in range(route_amount)]\n",
    "print(input_pairs)"
   ]
  },
  {
   "cell_type": "code",
   "execution_count": null,
   "metadata": {
    "colab": {
     "base_uri": "https://localhost:8080/",
     "height": 412
    },
    "id": "CFeJK-8OdNwP",
    "outputId": "3629e09c-468c-430c-a04a-dd00312e15c4"
   },
   "outputs": [],
   "source": [
    "fig, ax = plt.subplots(1,1, figsize=(10,10))\n",
    "img, ext = cx.bounds2img(*bbox, ll=True, source=BASEMAP_SOURCE)\n",
    "_ = ax.imshow(img, extent=ext)\n",
    "\n",
    "for pair in input_pairs:\n",
    "    input_df = gpd.GeoDataFrame(geometry=[Point(x,y) for x,y in pair], crs=\"EPSG:4326\").to_crs(\"EPSG:3857\")\n",
    "    input_df.plot(ax=ax, **POINT_PLOT_KWDS)\n",
    "\n",
    "_ = ax.axis(\"off\")\n"
   ]
  },
  {
   "cell_type": "code",
   "execution_count": null,
   "metadata": {
    "id": "9sRP7Sw2gRrT"
   },
   "outputs": [],
   "source": [
    "routers = {\n",
    "    'graphhopper': {\n",
    "        'api_key': 'a54e0dd9-06ab-4bb8-af69-102402242300',\n",
    "        'display_name': 'GraphHopper',\n",
    "        'profile': 'foot',\n",
    "        'color': '#417900',\n",
    "        'isochrones': True\n",
    "    }\n",
    "}"
   ]
  },
  {
   "cell_type": "code",
   "execution_count": null,
   "metadata": {
    "colab": {
     "base_uri": "https://localhost:8080/",
     "height": 0
    },
    "id": "BqN9-LW7gfNx",
    "outputId": "63963a2e-2d84-42b3-f9f6-8db80699f7c8"
   },
   "outputs": [],
   "source": [
    "!pip3 install routingpy"
   ]
  },
  {
   "cell_type": "code",
   "execution_count": null,
   "metadata": {
    "colab": {
     "base_uri": "https://localhost:8080/"
    },
    "id": "ZcfW_zUtgXPR",
    "outputId": "516092d8-76a3-49ae-fd59-126ba074aa09"
   },
   "outputs": [],
   "source": [
    "from routingpy.routers import get_router_by_name\n",
    "\n",
    "dict_ = {\"router\": [], \"distance\": [], \"duration\": []}\n",
    "geometries = []\n",
    "for router in routers:\n",
    "\n",
    "    api = get_router_by_name(router)(api_key=routers[router]['api_key'])\n",
    "\n",
    "    for coords_pair in input_pairs:\n",
    "\n",
    "        # just from A to B without intermediate points\n",
    "        route = api.directions(\n",
    "            profile=routers[router]['profile'],\n",
    "            locations=coords_pair\n",
    "        )\n",
    "        # Access the route properties with .geometry, .duration, .distance\n",
    "        distance, duration = route.distance / 1000, int(route.duration / 60)\n",
    "        dict_[\"router\"].append(router)\n",
    "        dict_[\"distance\"].append(distance)\n",
    "        dict_[\"duration\"].append(duration)\n",
    "        geometries.append(LineString(route.geometry,))\n",
    "\n",
    "    print(\"Calulated {}\".format(router))\n",
    "\n",
    "routes_df = gpd.GeoDataFrame(dict_, geometry=geometries, crs=\"EPSG:4326\").to_crs(\"EPSG:3857\")"
   ]
  },
  {
   "cell_type": "code",
   "execution_count": null,
   "metadata": {
    "colab": {
     "base_uri": "https://localhost:8080/",
     "height": 1000
    },
    "id": "yBlJywIYhOtP",
    "outputId": "821f10fe-cafc-4fcc-e9bf-59c5559d45dc"
   },
   "outputs": [],
   "source": [
    "fig, axs = plt.subplots(3,2, figsize=(15,20))\n",
    "img, ext = cx.bounds2img(*bbox, ll=True, source=BASEMAP_SOURCE)\n",
    "for idx, router in enumerate(routers):\n",
    "    ax = axs.flatten()[idx]\n",
    "    _ = ax.imshow(img, extent=ext)\n",
    "    routes_df.query(f\"router == '{router}'\").plot(\n",
    "        ax=ax, linewidth=3,\n",
    "        color=routers[router][\"color\"]\n",
    "    )\n",
    "    for pair in input_pairs:\n",
    "        input_df = gpd.GeoDataFrame(geometry=[Point(x,y) for x,y in pair], crs=\"EPSG:4326\").to_crs(\"EPSG:3857\")\n",
    "        input_df.plot(ax=ax, **POINT_PLOT_KWDS)\n",
    "\n",
    "    _ = ax.axis(\"off\")\n",
    "    ax.set_title(routers[router]['display_name'])\n",
    "\n",
    "fig.tight_layout()"
   ]
  },
  {
   "cell_type": "code",
   "execution_count": null,
   "metadata": {
    "colab": {
     "base_uri": "https://localhost:8080/"
    },
    "id": "RMD7V4iEttA6",
    "outputId": "752dd9d9-5a33-4f47-ac07-ee44ebc92aff"
   },
   "outputs": [],
   "source": [
    "for pair in input_pairs:\n",
    "    input_df = gpd.GeoDataFrame(geometry=[Point(x,y) for x,y in pair], crs=\"EPSG:4326\").to_crs(\"EPSG:3857\")\n",
    "    print(routes_df['geometry'])\n",
    "    print(pair)"
   ]
  },
  {
   "cell_type": "code",
   "execution_count": null,
   "metadata": {},
   "outputs": [],
   "source": [
    "from datetime import datetime, timedelta\n",
    "import random\n",
    "\n",
    "routes_df_wcf = gpd.GeoDataFrame(dict_, geometry=geometries)\n",
    "\n",
    "outputData = pd.DataFrame(columns = [\"time\",\"longitude\",\"latitude\"])\n",
    "\n",
    "for route in routes_df_wcf['geometry']:\n",
    "    l = route.length + 0.0001\n",
    "    start_datetime = datetime(2023, 12, 10, 17, 50) + timedelta(seconds=random.randrange(0, 1200))\n",
    "    for dist in np.arange(0, l, 0.0001):\n",
    "        currentLoc = route.interpolate(dist)\n",
    "        outputData.loc[len(outputData.index)] = [start_datetime + timedelta(seconds=dist*100000), currentLoc.x, currentLoc.y] \n"
   ]
  },
  {
   "cell_type": "code",
   "execution_count": null,
   "metadata": {},
   "outputs": [],
   "source": [
    "outputData.to_csv(\"routes_multiple.csv\")"
   ]
  },
  {
   "cell_type": "code",
   "execution_count": null,
   "metadata": {},
   "outputs": [],
   "source": [
    "outputData"
   ]
  },
  {
   "cell_type": "code",
   "execution_count": null,
   "metadata": {
    "colab": {
     "base_uri": "https://localhost:8080/"
    },
    "id": "Ay6ePYmzR-m8",
    "outputId": "884d3299-c834-463f-d71e-26f51671b0b8"
   },
   "outputs": [],
   "source": [
    "import numpy as np\n",
    "from scipy.interpolate import interp1d\n",
    "\n",
    "data = [\n",
    "    [19.914242, 50.06847],\n",
    "    [19.91461, 50.06843],\n",
    "    [19.914668, 50.068027],\n",
    "    [19.914696, 50.067962],\n",
    "    [19.914911, 50.067698],\n",
    "    [19.914899, 50.067664],\n",
    "    [19.915102, 50.06764],\n",
    "    [19.91561, 50.067625],\n",
    "    [19.917633, 50.067716],\n",
    "    [19.918039, 50.067686],\n",
    "    [19.917962, 50.067534],\n",
    "    [19.918093, 50.067522],\n",
    "    [19.918016, 50.067439],\n",
    "    [19.917884, 50.067197],\n",
    "    [19.918095, 50.067147],\n",
    "    [19.918113, 50.067181]\n",
    "]\n",
    "data = route_geo[0]\n",
    "print(data)\n",
    "\n",
    "# Separate latitude and longitude\n",
    "longitude, latitude = zip(*data)\n",
    "\n",
    "# Create an interpolation function for latitude\n",
    "interp_latitude = interp1d(longitude, latitude, kind='linear', fill_value='extrapolate')\n",
    "\n",
    "# Generate more new longitude values for interpolation\n",
    "new_longitude = np.linspace(min(longitude), max(longitude), 500)\n",
    "\n",
    "# Perform interpolation\n",
    "new_latitude = interp_latitude(new_longitude)\n",
    "\n",
    "data = []\n",
    "# Print the latitude and longitude of the interpolated points\n",
    "for lon, lat in zip(new_longitude, new_latitude):\n",
    "    print(f\"[{lon}, {lat}]\")\n",
    "    data.append([lon, lat])\n",
    "print(data)"
   ]
  },
  {
   "cell_type": "code",
   "execution_count": null,
   "metadata": {
    "colab": {
     "base_uri": "https://localhost:8080/"
    },
    "id": "7JXEUTBCZ6AN",
    "outputId": "95541f0a-3838-48e1-b3ca-53935245b4e9"
   },
   "outputs": [],
   "source": [
    "import pandas as pd\n",
    "from datetime import datetime, timedelta\n",
    "\n",
    "\n",
    "# Convert your data to a pandas DataFrame\n",
    "df = pd.DataFrame(data, columns=[\"Latitude\", \"Longitude\"])\n",
    "\n",
    "# Set the start datetime\n",
    "start_datetime = datetime(2023, 12, 10, 20, 0)\n",
    "\n",
    "# Calculate the time difference between each point\n",
    "time_difference = timedelta(minutes=5) / len(df)\n",
    "\n",
    "# Add the datetime column\n",
    "df[\"Datetime\"] = [start_datetime + i * time_difference for i in range(len(df))]\n",
    "\n",
    "# Print the resulting DataFrame\n",
    "print(df)\n",
    "\n",
    "df.to_csv('points.csv', index=False)\n",
    "\n"
   ]
  }
 ],
 "metadata": {
  "colab": {
   "provenance": []
  },
  "kernelspec": {
   "display_name": "Python 3 (ipykernel)",
   "language": "python",
   "name": "python3"
  },
  "language_info": {
   "codemirror_mode": {
    "name": "ipython",
    "version": 3
   },
   "file_extension": ".py",
   "mimetype": "text/x-python",
   "name": "python",
   "nbconvert_exporter": "python",
   "pygments_lexer": "ipython3",
   "version": "3.11.4"
  }
 },
 "nbformat": 4,
 "nbformat_minor": 1
}
